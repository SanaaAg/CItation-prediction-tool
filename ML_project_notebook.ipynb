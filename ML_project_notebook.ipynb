{
 "cells": [
  {
   "cell_type": "markdown",
   "metadata": {},
   "source": [
    "## Question \n",
    "\n",
    "_Using this cell, please write a short, clear paragraph explaining what question you plan to answer in this notebook. Your question can be narrow (e.g. can we predict a dog's height from its weight) or broad (e.g. what features are important or unimportant in predicting the price of a house). Briefly describe why your question is important and how you plan to answer. Be sure to explain what is imaginative, creative or ambitious about your planned work! For instance, will you spend a lot of time defining new features, will you be working with hard-to-get data, will your work inform a major theoretical debate? Be sure to ask a question you can actually start to answer using machine learning techniques!\n",
    "\n",
    "\n",
    "My question is -- Can we predict the citation count of a paper published in a peer-reviewed journal using the information given only in the abstract of the paper?\n",
    "This question is interesting because it can help to identify how impactful a paper is likely to be in a given amount of time. This metric can be useful for high-impact journals when they are deciding whether a paper is appropriate for being published their journal or not. However, I would use this metric with caution and only as a weak indicator because it is far from being accurate enough to be used to make important publishing decisions. In addition to this, this metric is derived from the data collected in the past and is not necessarily an indicator of the direction in which a particular field might be going in the future. It would be more appropriate as an identifier for an author of a paper as it can help them gauge the perceived impact of their own paper as well gain some info about the kinds of topics that are being widely-studied in a field.\n",
    "\n",
    "I have chosen to look at papers from a specific topic -- Quantum computing, published in the years 2009-2010. My model does not depend on these choices and can be used for any topic and year(s), provided that the data is available on the ADS server.\n",
    "\n",
    "I have spent most of my time in defining features and feature selection/extraction. As my features are words from the abstract, I have cleaned the raw data by removing unimportant words/symbols and converted words into a common form so that a single word appearing in different forms (noun, adjective, adverb, verb, etc.) is counted as the same word instead of different words by the classifier. I have also spent some time training different classifiers and figuring out which one is best-suited for achieving the goals of this project. However, for the sake of brevity and clear presentation, I will present the results from just one classifier here. \n",
    "\n"
   ]
  },
  {
   "cell_type": "markdown",
   "metadata": {},
   "source": [
    "## Importing libraries"
   ]
  },
  {
   "cell_type": "code",
   "execution_count": 1,
   "metadata": {},
   "outputs": [],
   "source": [
    "# importing libraries\n",
    "\n",
    "import keyring\n",
    "import requests\n",
    "import numpy as np\n",
    "import re\n",
    "import matplotlib.pyplot as plt\n",
    "from collections import Counter\n",
    "from collections import defaultdict\n",
    "from sklearn.model_selection import train_test_split \n",
    "from sklearn.feature_extraction import DictVectorizer\n",
    "from sklearn.feature_selection import SelectPercentile, chi2\n",
    "from sklearn.linear_model import LogisticRegression, SGDClassifier\n",
    "from sklearn.model_selection import GridSearchCV, cross_val_predict\n",
    "from sklearn.metrics import accuracy_score, precision_score, precision_recall_fscore_support\n",
    "from sklearn.metrics import confusion_matrix, ConfusionMatrixDisplay\n",
    "from sklearn.svm import SVC\n",
    "import pandas as pd\n",
    "import nltk\n",
    "from nltk.tokenize import word_tokenize\n",
    "from nltk import pos_tag\n",
    "from nltk.corpus import stopwords\n",
    "from nltk.stem import WordNetLemmatizer\n",
    "from sklearn.preprocessing import LabelEncoder\n",
    "from sklearn.feature_extraction.text import TfidfVectorizer\n",
    "from sklearn import model_selection, svm\n",
    "\n",
    "\n",
    "# if running this code for the first time and the following is not downloaded yet, uncomment the following lines\n",
    "# and download these.\n",
    "\n",
    "#f = nltk.download('wordnet')\n",
    "#f = nltk.download('averaged_perceptron_tagger')\n",
    "#f = nltk.download('stopwords')\n",
    "#f = nltk.download('punkt')\n",
    "\n",
    "from nltk.corpus import wordnet as wn"
   ]
  },
  {
   "cell_type": "markdown",
   "metadata": {},
   "source": [
    "### Data collection:\n",
    "\n",
    "I have collected data about these papers, i.e., their abstract and citation count, from the  SAO/NASA Astrophysics Data System (ADS) (https://ui.adsabs.harvard.edu/), which is publicly available. I have extracted data from their server using an API.\n",
    "\n",
    "I will be splitting data using sklearn which divides data into random partitions for a user-specified partition fraction. I have chosen a split of 60-40 for training and test+validation sets. I have further divided the test+validation set into a test and validation set using a split of 50-50. This split makes sense for my data as I do not have a lot of instances, i.e., <10,000 points.\n",
    "\n",
    "\n"
   ]
  },
  {
   "cell_type": "code",
   "execution_count": 2,
   "metadata": {},
   "outputs": [
    {
     "name": "stdout",
     "output_type": "stream",
     "text": [
      "<Response [200]>\n",
      "<Response [200]>\n"
     ]
    }
   ],
   "source": [
    "# setting my API token for adsabs.harvard.edu\n",
    "\n",
    "keyring.set_password(\"ADS_API_TOKEN\", \"ADS_API_TOKEN\", \"SaRvDR5CxyiX3cosvbYMilJRrEZgb8OpdAHnOzoW\")\n",
    "\n",
    "# setting search parameters for the data we want to extract using the API\n",
    "\n",
    "year_str_list = [2009,2010] #,2011,2012,2013,2014]\n",
    "list_of_keywords = [\"quantum\",\"computing\"]\n",
    "keyword_str = '\"'\n",
    "for ik, word in enumerate(list_of_keywords):\n",
    "    keyword_str += word\n",
    "    if ik < len(list_of_keywords)-1:\n",
    "        keyword_str += \"%20\"\n",
    "keyword_str += '\"'\n",
    "\n",
    "# get data from API\n",
    "\n",
    "r_list = []\n",
    "for iy,year_str in enumerate(year_str_list):\n",
    "\n",
    "    token = keyring.get_password(\"ADS_API_TOKEN\", \"ADS_API_TOKEN\")\n",
    "    r = requests.get(\n",
    "        r'https://api.adsabs.harvard.edu/v1/search/query?q=year%3A'+str(year_str)+'%20full%3A'+keyword_str+'&sort=date%20desc%2C%20&fl=bibcode&fl=abstract&fl=citation_count&rows=2000',\n",
    "        headers={\"Authorization\": \"Bearer \" + token},\n",
    "    )\n",
    "    r_list.append(r)\n",
    "    print(r) # if this prints <Response [200]>, then it was a success\n",
    " "
   ]
  },
  {
   "cell_type": "markdown",
   "metadata": {},
   "source": [
    "## Cleaning data"
   ]
  },
  {
   "cell_type": "code",
   "execution_count": 3,
   "metadata": {},
   "outputs": [
    {
     "name": "stdout",
     "output_type": "stream",
     "text": [
      "Year=2009\n",
      "Data missing at: 124\n",
      "Data missing at: 201\n",
      "Data missing at: 289\n",
      "Data missing at: 413\n",
      "Data missing at: 426\n",
      "Data missing at: 958\n",
      "Data missing at: 1241\n",
      "Data missing at: 1326\n",
      "Data missing at: 1338\n",
      "Data missing at: 1397\n",
      "Year=2010\n",
      "Data missing at: 915\n",
      "Data missing at: 1237\n",
      "Data missing at: 1555\n",
      "Data missing at: 1591\n"
     ]
    }
   ],
   "source": [
    "# creating lists for raw data and raw labels\n",
    "# cleaning the dataset by removing data for which either the citation count or the abstract is missing\n",
    "\n",
    "abstract_list = [] # features\n",
    "citation_count_list = [] # labels\n",
    "\n",
    "for iy,year_str in enumerate(year_str_list):\n",
    "    index = 0\n",
    "    print('Year='+str(year_str))\n",
    "    for ii in r_list[iy].json()[\"response\"][\"docs\"]:\n",
    "        try:\n",
    "            if ii[\"citation_count\"] == 0: \n",
    "                # we skip data with 0 citation counts because this may include conference proceedings\n",
    "                # and we wish to have only peer-reviewed journal articles included here\n",
    "                continue\n",
    "            elif ii[\"abstract\"] in abstract_list: # remove repetitions in data, if any\n",
    "                index += 1 \n",
    "                continue\n",
    "            else:\n",
    "                abstract_list.append(ii[\"abstract\"])\n",
    "                citation_count_list.append(ii[\"citation_count\"])\n",
    "                index += 1\n",
    "        except:\n",
    "            print('Data missing at: ' + str(index))"
   ]
  },
  {
   "cell_type": "markdown",
   "metadata": {},
   "source": [
    "## Converting continuous data labels into discrete class labels"
   ]
  },
  {
   "cell_type": "code",
   "execution_count": 4,
   "metadata": {},
   "outputs": [],
   "source": [
    "# create labels and assign those labels to the raw label list\n",
    "\n",
    "label_list = [ 'Low', 'Medium', 'High'] # Low: 1-5, Medium: 6-20, High: >20\n",
    "label_num_list = [0,1,2]\n",
    "label_lower_threshold_list = [1,6,21]\n",
    "label_upper_threshold_list = [5,20,np.max(np.array(citation_count_list))]\n",
    "\n",
    "data_label_list = []\n",
    "for ic, count in enumerate(citation_count_list):\n",
    "    for il in range(0, len(label_list)):\n",
    "        if count in np.arange(label_lower_threshold_list[il],label_upper_threshold_list[il]+1,1):\n",
    "            data_label = label_num_list[il]\n",
    "            data_label_list.append(data_label)\n",
    "            break"
   ]
  },
  {
   "cell_type": "markdown",
   "metadata": {},
   "source": [
    "### Histogram of data labels: shows that the data is almost uniformly distributed across the three labels"
   ]
  },
  {
   "cell_type": "code",
   "execution_count": 12,
   "metadata": {},
   "outputs": [
    {
     "data": {
      "image/png": "[encoded data removed]",
      "text/plain": [
       "<Figure size 432x288 with 1 Axes>"
      ]
     },
     "metadata": {
      "needs_background": "light"
     },
     "output_type": "display_data"
    }
   ],
   "source": [
    "plt.hist(data_label_list, density=False)\n",
    "plt.xlabel(\"Labels\")\n",
    "plt.xticks(label_num_list)\n",
    "plt.ylabel(\"Frequency\")\n",
    "plt.show()"
   ]
  },
  {
   "cell_type": "markdown",
   "metadata": {},
   "source": [
    "## Splitting data into training, cross validation and test datasets"
   ]
  },
  {
   "cell_type": "code",
   "execution_count": 6,
   "metadata": {},
   "outputs": [],
   "source": [
    "# split data into train and test sets using sklearn with random partitions\n",
    "\n",
    "x_train, x_rest, y_train, y_rest = train_test_split(abstract_list, data_label_list, test_size=0.4, train_size=0.6)\n",
    "x_cv, x_test, y_cv, y_test = train_test_split(x_rest, y_rest, test_size=0.5, train_size=0.5)"
   ]
  },
  {
   "cell_type": "markdown",
   "metadata": {},
   "source": [
    "## Feature extraction of text data "
   ]
  },
  {
   "cell_type": "code",
   "execution_count": 7,
   "metadata": {},
   "outputs": [],
   "source": [
    "# feature extraction\n",
    "\n",
    "# n-grams\n",
    "\n",
    "def ngrams(tokens, n):\n",
    "    output = []\n",
    "    for i in range(n-1, len(tokens)):\n",
    "        ngram = ' '.join(tokens[i-n+1:i+1])\n",
    "        output.append(ngram)\n",
    "    return output\n",
    "\n",
    "# skip-grams\n",
    "\n",
    "def skip_gram_features(text, ngram_range=(1,1)):\n",
    "    text = text.lower()      # make the string lowercase\n",
    "    text = re.sub(r'(.)\\1+', r'\\1\\1', text)     # remove consecutive characters that are repeated more than twice\n",
    "    \n",
    "    features_in_text = []   # running list of all features in this instance (can be repeated)\n",
    "    \n",
    "    # treat alphanumeric characters as word tokens (removing anything else),    \n",
    "    # keep only words, not numbers\n",
    "    text_alphanum = re.sub('[^a-z]', ' ', text)\n",
    "    \n",
    "    \n",
    "    # keep only thise words which have more than 3 letters:\n",
    "    words_list = text_alphanum.split()\n",
    "    words_list_grter_than_3 = []\n",
    "    for w in words_list:\n",
    "        if len(w)>3:\n",
    "            words_list_grter_than_3+=[w]\n",
    "    words_list = words_list_grter_than_3\n",
    "    \n",
    "    \n",
    "    # Remove Stop words and perfom Word Stemming/Lemmenting.\n",
    "    # WordNetLemmatizer requires Pos tags to understand if the word is noun or verb or adjective etc. \n",
    "    # By default it is set to Noun\n",
    "    \n",
    "    tag_map = defaultdict(lambda : wn.NOUN)\n",
    "    tag_map['J'] = wn.ADJ\n",
    "    tag_map['V'] = wn.VERB\n",
    "    tag_map['R'] = wn.ADV\n",
    "    tag_map['S'] = wn.ADJ_SAT\n",
    "    \n",
    "    \n",
    "    # Declaring Empty List to store the words that follow the rules for this step\n",
    "    \n",
    "    Final_words = []\n",
    "    \n",
    "    # Initializing WordNetLemmatizer()\n",
    "    word_Lemmatized = WordNetLemmatizer()\n",
    "    # pos_tag function below will provide the 'tag' i.e if the word is Noun(N) or Verb(V) or something else.\n",
    "    entry = words_list\n",
    "    for word, tag in pos_tag(entry):\n",
    "    # Following condition is to check for Stop words and consider only alphabets\n",
    "        if word not in stopwords.words('english') and word.isalpha():\n",
    "            word_Final = word_Lemmatized.lemmatize(word,tag_map[tag[0]])\n",
    "            Final_words.append(word_Final)\n",
    "            \n",
    "    # The processed set of words for each instance will be stored now \n",
    "    \n",
    "    words_list = Final_words\n",
    "    \n",
    "    # extract all n-grams of length n specified by ngram_range\n",
    "    \n",
    "    for n in range(ngram_range[0], ngram_range[1]+1):\n",
    "        features_in_text += ngrams(words_list, n) \n",
    "    \n",
    "    # now convert word(s) in between the edge words to asterisk(s)\n",
    "    \n",
    "    for n in range(ngram_range[0], ngram_range[1]+1):\n",
    "        if n > 2: #n == 3 or n == 4:\n",
    "            temp_ngrams = ngrams(words_list, n) \n",
    "            for it in range(0, len(temp_ngrams)):\n",
    "                words_in_ngram = temp_ngrams[it].split()\n",
    "                new_ngram = words_in_ngram[0]\n",
    "                for iw in range(1, len(words_in_ngram)-1):\n",
    "                    new_ngram += ' * '\n",
    "                new_ngram += words_in_ngram[-1]\n",
    "                features_in_text += [new_ngram]\n",
    "                \n",
    "\n",
    "    # 'Counter' converts a list into a dictionary whose keys are the list elements \n",
    "    #  and the values are the number of times each element appeared in the list\n",
    "    \n",
    "    return [Counter(features_in_text),features_in_text] \n"
   ]
  },
  {
   "cell_type": "markdown",
   "metadata": {},
   "source": [
    "## Selecting features upto a percentile -- hyperparameter #1"
   ]
  },
  {
   "cell_type": "code",
   "execution_count": 37,
   "metadata": {},
   "outputs": [],
   "source": [
    "# Feature selection\n",
    "\n",
    "ngr = (1,1)\n",
    "\n",
    "per_list = np.array([10,20,30,40,50,100])  #np.array([10,20,30,40,50,60,70,80,100]) \n",
    "\n",
    "vect = DictVectorizer()\n",
    "\n",
    "x_all_num = vect.fit_transform(skip_gram_features(d, ngram_range=ngr)[0] for d in abstract_list)\n",
    "\n",
    "\n",
    "feature_names = np.asarray(vect.get_feature_names())\n",
    "\n",
    "\n",
    "# split data into train, test and validation sets using sklearn with random partitions\n",
    "\n",
    "x_train, x_rest, y_train, y_rest = train_test_split(x_all_num, data_label_list, test_size=0.4, train_size=0.6)\n",
    "x_cv, x_test, y_cv, y_test = train_test_split(x_rest, y_rest, test_size=0.5, train_size=0.5)\n",
    "\n",
    "\n",
    "x_train_final_list = []\n",
    "x_cv_final_list = []\n",
    "x_test_final_list = []\n",
    "for ip, per in enumerate(per_list):\n",
    "    selection = SelectPercentile(percentile=per, score_func=chi2)\n",
    "    x_train_final_list.append(selection.fit_transform(x_train, y_train))\n",
    "    x_cv_final_list.append(selection.transform(x_cv))\n",
    "    x_test_final_list.append(selection.transform(x_test))\n",
    "    \n"
   ]
  },
  {
   "cell_type": "code",
   "execution_count": 38,
   "metadata": {},
   "outputs": [
    {
     "name": "stdout",
     "output_type": "stream",
     "text": [
      "9837\n",
      "3328\n"
     ]
    }
   ],
   "source": [
    "print(len(feature_names))\n",
    "print(len(citation_count_list))"
   ]
  },
  {
   "cell_type": "markdown",
   "metadata": {},
   "source": [
    "### Since number of features (=9837) >> number of instances (=3328), we will go with a linear classifier, i.e., Logistic regression\n"
   ]
  },
  {
   "cell_type": "markdown",
   "metadata": {},
   "source": [
    "## Fitting a classifier model to the training data and tuning the hyperparameters with the validation data"
   ]
  },
  {
   "cell_type": "code",
   "execution_count": 42,
   "metadata": {},
   "outputs": [],
   "source": [
    "\n",
    "# these are the C values we will compare -- hyperparameter #2\n",
    "\n",
    "\n",
    "C_list = [0.001, 0.01, 0.1, 1.0]\n",
    "\n",
    "training_acc_arr_C = np.zeros(( len(per_list), len(C_list)))\n",
    "cv_acc_arr_C = np.zeros(( len(per_list), len(C_list)))\n",
    "precision_arr_C = np.zeros(( len(per_list), len(C_list), len(label_list)))\n",
    "recall_arr_C = np.zeros(( len(per_list), len(C_list),  len(label_list)))\n",
    "fscore_arr_C = np.zeros(( len(per_list), len(C_list), len(label_list)))\n",
    "\n",
    "for ip in range(0, len(per_list)):\n",
    "    for ic,Cval in enumerate(C_list):\n",
    "        classifier = LogisticRegression(multi_class='multinomial', solver='lbfgs', C=Cval, tol=1e-10, max_iter=1000, random_state=123)\n",
    "        classifier.fit(x_train_final_list[ip], y_train)\n",
    "        training_acc_arr_C[ip,ic] = accuracy_score(y_train, classifier.predict(x_train_final_list[ip]))\n",
    "        cv_acc_arr_C[ip,ic] = accuracy_score(y_cv, classifier.predict(x_cv_final_list[ip]))\n",
    "        prec, recall, fscore, _ = precision_recall_fscore_support(y_cv, classifier.predict(x_cv_final_list[ip]), average=None, labels=label_num_list)\n",
    "        precision_arr_C[ip,ic] = prec\n",
    "        recall_arr_C[ip,ic] = recall\n",
    "        fscore_arr_C[ip,ic] = fscore"
   ]
  },
  {
   "cell_type": "code",
   "execution_count": 44,
   "metadata": {},
   "outputs": [
    {
     "data": {
      "image/png": "[encoded data removed]",
      "text/plain": [
       "<Figure size 432x288 with 1 Axes>"
      ]
     },
     "metadata": {
      "needs_background": "light"
     },
     "output_type": "display_data"
    },
    {
     "data": {
      "image/png": "[encoded data removed]",
      "text/plain": [
       "<Figure size 432x288 with 1 Axes>"
      ]
     },
     "metadata": {
      "needs_background": "light"
     },
     "output_type": "display_data"
    }
   ],
   "source": [
    "for ic,c in enumerate(C_list):\n",
    "    plt.plot(per_list,cv_acc_arr_C[:,ic],label='C='+str(C_list[ic]))\n",
    "plt.ylabel('Validation accuracy')\n",
    "plt.xlabel('Percentile')\n",
    "plt.legend(loc='best')\n",
    "plt.show()\n",
    "for ic,c in enumerate(C_list):\n",
    "    plt.plot(per_list,training_acc_arr_C[:,ic])\n",
    "plt.ylabel('Training accuracy')\n",
    "plt.xlabel('Percentile')\n",
    "plt.show()\n"
   ]
  },
  {
   "cell_type": "markdown",
   "metadata": {},
   "source": [
    "# Test the best hyperparameters against the test data"
   ]
  },
  {
   "cell_type": "code",
   "execution_count": 52,
   "metadata": {},
   "outputs": [],
   "source": [
    "Cval = 0.1\n",
    "ip = 3 # corresponds to percentile = 40\n",
    "\n",
    "classifier = LogisticRegression(multi_class='multinomial', solver='lbfgs', C=Cval, tol=1e-10, max_iter=1000, random_state=123)\n",
    "classifier.fit(x_train_final_list[ip], y_train)\n",
    "training_acc = accuracy_score(y_train, classifier.predict(x_train_final_list[ip]))\n",
    "cv_acc = accuracy_score(y_cv, classifier.predict(x_cv_final_list[ip]))\n",
    "test_pred = (classifier.predict(x_test_final_list[ip]))\n",
    "test_pred = test_pred.astype(int)\n",
    "test_acc = accuracy_score(y_test, test_pred)\n",
    "prec, recall, fscore, _ = precision_recall_fscore_support(y_test, test_pred, average=None, labels=label_num_list)\n"
   ]
  },
  {
   "cell_type": "code",
   "execution_count": 60,
   "metadata": {},
   "outputs": [
    {
     "name": "stdout",
     "output_type": "stream",
     "text": [
      "Cross validation accuracy: 0.44894894894894893\n",
      "Test accuracy: 0.4444444444444444\n"
     ]
    }
   ],
   "source": [
    "print(\"Cross validation accuracy: \" +str(cv_acc))\n",
    "print(\"Test accuracy: \" +str(test_acc))"
   ]
  },
  {
   "cell_type": "markdown",
   "metadata": {},
   "source": [
    "# Results\n",
    "\n",
    "We achieve a test accuracy of around 44% which is much higher than the accuracy expected from random assignment of labels (=1/3). We also see that our cross validation accuracy and test accuracy are almost equal, thus implying that our model and the choice of hyperparameters is generalised enough to predict using new data. \n",
    "\n"
   ]
  },
  {
   "cell_type": "markdown",
   "metadata": {},
   "source": [
    "# Error analysis using confusion matrix\n",
    "\n",
    "As we can see, the precision and recall is highest for label = \"High\". This is possibly because the division of the data is such that this label has the largest number of instances and hence, it is better learned by the model. In addition to this, we see that the label \"Medium\" has the lowest precision and recall because of having fewer training instances in that class. \n",
    "\n",
    "\n"
   ]
  },
  {
   "cell_type": "code",
   "execution_count": 56,
   "metadata": {},
   "outputs": [
    {
     "data": {
      "image/png": "[encoded data removed]",
      "text/plain": [
       "<Figure size 432x288 with 2 Axes>"
      ]
     },
     "metadata": {
      "needs_background": "light"
     },
     "output_type": "display_data"
    }
   ],
   "source": [
    "# create confusion matrix\n",
    "\n",
    "cm = confusion_matrix(y_test, test_pred, labels = label_num_list, normalize='all') \n",
    "disp = ConfusionMatrixDisplay(confusion_matrix=cm,display_labels=label_list)\n",
    "\n",
    "# Normalizes confusion matrix over the true (rows), predicted (columns) conditions or all the population. \n",
    "# If None, confusion matrix will not be normalized.\n",
    "disp.plot()\n",
    "\n",
    "plt.show()\n"
   ]
  },
  {
   "cell_type": "code",
   "execution_count": 59,
   "metadata": {},
   "outputs": [
    {
     "name": "stdout",
     "output_type": "stream",
     "text": [
      "Label = Low\n",
      "Precision = 0.4349775784753363\n",
      "Recall = 0.470873786407767\n",
      "Label = Medium\n",
      "Precision = 0.38967136150234744\n",
      "Recall = 0.3738738738738739\n",
      "Label = High\n",
      "Precision = 0.5043478260869565\n",
      "Recall = 0.48739495798319327\n"
     ]
    }
   ],
   "source": [
    "for il, lab in enumerate(label_list):\n",
    "    print(\"Label = \"+str(lab))\n",
    "    print(\"Precision = \"+str(prec[il]))\n",
    "    print(\"Recall = \"+str(recall[il]))\n",
    "    "
   ]
  },
  {
   "cell_type": "markdown",
   "metadata": {},
   "source": [
    "# Summary\n",
    "\n",
    "We have created a model for predicting citation count of a paper given its abstract with accuracy greater than random.\n",
    "\n",
    "\n",
    "## Scope for improvement:\n",
    "\n",
    "We might be able to improve the model by collecting more data as we notice in the beginning that the number of features is much greater than the number of instances. It might be possible to further improve the model by eliminating words which are not relevant to a given topic as well as those words which are too frequent and do not contribute to the information needed for predicting citation count. "
   ]
  },
  {
   "cell_type": "code",
   "execution_count": null,
   "metadata": {},
   "outputs": [],
   "source": []
  }
 ],
 "metadata": {
  "kernelspec": {
   "display_name": "Python 3",
   "language": "python",
   "name": "python3"
  },
  "language_info": {
   "codemirror_mode": {
    "name": "ipython",
    "version": 3
   },
   "file_extension": ".py",
   "mimetype": "text/x-python",
   "name": "python",
   "nbconvert_exporter": "python",
   "pygments_lexer": "ipython3",
   "version": "3.8.5"
  }
 },
 "nbformat": 4,
 "nbformat_minor": 4
}
